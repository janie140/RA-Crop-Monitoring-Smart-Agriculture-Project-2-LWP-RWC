{
 "cells": [
  {
   "cell_type": "code",
   "execution_count": 44,
   "metadata": {
    "colab": {
     "base_uri": "https://localhost:8080/"
    },
    "id": "W1L-_Q2PkFE1",
    "outputId": "7730f58b-83f2-490e-95c9-ae313922763d"
   },
   "outputs": [],
   "source": [
    "import pandas as pd\n",
    "import numpy as np\n",
    "import torch as t"
   ]
  },
  {
   "cell_type": "code",
   "execution_count": 71,
   "metadata": {
    "id": "2YsfxjTr6E_u"
   },
   "outputs": [],
   "source": [
    "# Please select Runtime > Change Runtime Type > T4 GPU\n",
    "DEVICE = 'cuda:0' if t.cuda.is_available() else 'cpu:0'\n",
    "\n",
    "#Import Training Set (change path according to where training data is saved)\n",
    "df = pd.read_excel(\"drought_training_df.xlsx\")\n",
    "\n",
    "#Parse hypespectral bands (bands) and Water Potential (Mpa) (target) from dataset\n",
    "df_np = df.to_numpy()\n",
    "target = df['Water Potential (Mpa)'].to_numpy()\n",
    "new_target = t.from_numpy(target.astype(np.float32)).to(device=DEVICE)\n",
    "bands = t.from_numpy(df_np[:, 1:].astype(np.float32)).to(device=DEVICE)\n",
    "\n",
    "#Customized correlation coefficient function\n",
    "def corrcoef(X, y):\n",
    "  \"\"\"\n",
    "  X is (n, m) array\n",
    "  with m samples and n possible mdatt indices\n",
    "\n",
    "  y is (1, m) array with m samples and\n",
    "  \"\"\"\n",
    "  mu_X = X.mean(axis=-1, keepdims=True)\n",
    "  mu_y = y.mean(axis=-1, keepdims=True)\n",
    "  Xcent = X - mu_X # X centered around origin\n",
    "  ycent = y - mu_y # y centered around origin\n",
    "  n = X.shape[-1]\n",
    "  C_ij = (Xcent * ycent).sum(axis=-1) / (n - 1)\n",
    "  C_ii = (Xcent * Xcent).sum(axis=-1) / (n - 1)\n",
    "  C_jj = (ycent * ycent).sum(axis=-1) / (n - 1)\n",
    "  return C_ij / ((C_ii * C_jj).sqrt())\n",
    "\n",
    "#Function that finds the best MDATT indices based on the absolute value of corrcoef\n",
    "def _find_mdatt_indices(bands, new_target):\n",
    "  best_correlation = -np.inf\n",
    "\n",
    "  #Vectorization of bands for increased efficiency\n",
    "  bands_i = bands[:, :, np.newaxis, np.newaxis]\n",
    "  bands_j = bands[:, np.newaxis, :, np.newaxis]\n",
    "  bands_k = bands[:, np.newaxis, np.newaxis, :]\n",
    "\n",
    "  B = 50 # Batch size\n",
    "  MAXB = 994 # Max bands\n",
    "  for i in range(0, MAXB, B):\n",
    "    end_i = min(i+B, MAXB)\n",
    "    for j in range(0, MAXB, B):\n",
    "      end_j = min(j+B, MAXB)\n",
    "      for k in range(0, MAXB, B):\n",
    "        end_k = min(k+B, MAXB)\n",
    "        this_band_i = bands_i[:, i:end_i, :, :]\n",
    "        this_band_j = bands_j[:, :, j:end_j, :]\n",
    "        this_band_k = bands_k[:, :, :, k:end_k]\n",
    "        bands_kj_diff = this_band_k - this_band_j\n",
    "        bands_kj_diff = t.where(\n",
    "            bands_kj_diff == 0,\n",
    "            1e-4, bands_kj_diff)\n",
    "        mdatt = (this_band_k - this_band_i) / bands_kj_diff\n",
    "        mdatt_shape = mdatt.shape # (53,65,65,65)\n",
    "        correlation = corrcoef(mdatt.reshape(53, -1).T, new_target).abs() # (65^3, 53) , (1, 53)\n",
    "        \n",
    "        correlation[correlation.isnan()] = 0 # Remove nans\n",
    "        i_j_k_ravelled = (correlation).cpu().numpy().argmax() # convert to numpy\n",
    "        bi, bj, bk = np.unravel_index(i_j_k_ravelled, mdatt_shape[1:]) #getting the best indices within the batch\n",
    "        x = correlation[i_j_k_ravelled]\n",
    "        if x > best_correlation:\n",
    "          best_correlation = x\n",
    "          best_indices = (bi+i, bj+j, bk+k) #saving the absolute index value of the best mdatt bands\n",
    "            \n",
    "  return best_indices\n",
    "\n",
    "def find_mdatt_indices(*args, **kw):\n",
    "  with t.no_grad(): # disable autogradients\n",
    "    return _find_mdatt_indices(*args, **kw)"
   ]
  },
  {
   "cell_type": "code",
   "execution_count": 68,
   "metadata": {},
   "outputs": [],
   "source": [
    "bands_df = df.copy()\n",
    "# Drop the first column\n",
    "bands_df = bands_df.iloc[:, 1:]"
   ]
  },
  {
   "cell_type": "code",
   "execution_count": 72,
   "metadata": {},
   "outputs": [
    {
     "name": "stdout",
     "output_type": "stream",
     "text": [
      "Best indices: (873, 901, 882)\n",
      "Corresponding column names: Index(['2247', '2314', '2269'], dtype='object')\n"
     ]
    }
   ],
   "source": [
    "# Find the best indices\n",
    "best_indices_MDATT = _find_mdatt_indices(bands, new_target)\n",
    "\n",
    "# Convert best_indices tuple to a list\n",
    "best_indices_list = list(best_indices_MDATT)\n",
    "\n",
    "# Get the column names corresponding to the best indices\n",
    "column_names = bands_df.columns[best_indices_list]\n",
    "\n",
    "# Print the results\n",
    "print(\"Best indices:\", best_indices_MDATT)\n",
    "print(\"Corresponding column names:\", column_names)\n",
    "\n",
    "# # Mutate a new column, MDATT which is (Rλ3 − Rλ1)/(Rλ3 − Rλ2)\n",
    "# indices_df[\"MDATT\"] = (indices_df.iloc[:, best_indices_list[2]] - indices_df.iloc[:, best_indices_list[0]]) / (indices_df.iloc[:, best_indices_list[2]] - indices_df.iloc[:, best_indices_list[1]])"
   ]
  }
 ],
 "metadata": {
  "colab": {
   "provenance": []
  },
  "kernelspec": {
   "display_name": "Python 3 (ipykernel)",
   "language": "python",
   "name": "python3"
  },
  "language_info": {
   "codemirror_mode": {
    "name": "ipython",
    "version": 3
   },
   "file_extension": ".py",
   "mimetype": "text/x-python",
   "name": "python",
   "nbconvert_exporter": "python",
   "pygments_lexer": "ipython3",
   "version": "3.11.4"
  }
 },
 "nbformat": 4,
 "nbformat_minor": 1
}
